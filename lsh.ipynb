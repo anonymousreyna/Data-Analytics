{
 "cells": [
  {
   "cell_type": "markdown",
   "metadata": {},
   "source": [
    "# Locality sensitive hashing using MinHash\n",
    "\n",
    "The idea behind locality sensitive hashing is to take the document fingerprints and chop them up into pieces, each piece being some number of `minhash`es. Since a single `minhash` (single entry in the fingerprint) has a probability equal to the Jaccard similarity of producing a collision, each chopped up portion of the fingerprint should as well. This chopped up portion is the `locality` in locality sensitive hashing, the `hashing` is just a hash function (any hash function) which produces a `bin ID` from the fingerprint `locality` being hashed. Each bin holds the entire fingerprint (with optional meta information) of the document and that of other documents that hash to the same `bin`.\n",
    "\n",
    "Let's say our fingerprint has 100 `minhash`es in it and we chop the fingerprints into 10 pieces. Each piece of each fingerprint therefore contains 10 `minhash`es, we hash those again (not using `minhash` this time) to get a `bin ID` and store the whole fingerprint in every bin each of the pieces happens to land in.\n",
    "\n",
    "When we want to know which documents are similar to a query document, we look in all the bins the query document lands in, any document in any of the bins is a potential duplicate. Comparing the full fingerprint of all documents in the bin or computing the actual Jaccard similarity between the shingle sets yields the final similarity of documents. Crucially _since not all documents will land in the same bins we've reduced the number of comparisons needed to find similar or near duplicate documents_.\n",
    "\n",
    "The number of pieces to chop each fingerprint into and the size of each piece are parameters that need to be set. These should be set such that $num\\_pieces \\times size\\_of\\_piece == num\\_minhashes$ - this makes sense since having computed all the $N$ `minhash`es we want to use all of them in the locality sensitive hashing part. There is however a further issue that needs to be considered when setting the parameters; the relation between the number and size of the pieces and the probability of LSH \"finding\" a pair of similar documents.\n",
    "\n",
    "LSH is a probabilistic model which means that it won't always do the \"right thing\". Using LSH one needs to consider the similarity of a pair of documents (in this case the Jaccard similarity) and the probability that LSH will find that pair to be similar (a true positive, i.e. a correctly discovered duplicate pair). The pair of documents LSH finds to be similar should be thought of as _candidate_ duplicates. The higher the probability, or guarantee, that LSH will find a pair of documents to be similar the more false positives the model will also produce, that is candidate duplicates that are not in fact duplicates."
   ]
  },
  {
   "cell_type": "code",
   "execution_count": 44,
   "metadata": {
    "ExecuteTime": {
     "end_time": "2017-06-01T14:22:01.613179Z",
     "start_time": "2017-06-01T14:21:44.613310Z"
    }
   },
   "outputs": [],
   "source": [
    "%matplotlib inline\n",
    "\n",
    "import numpy as np\n",
    "import pandas as pd\n",
    "import seaborn as sns\n",
    "from matplotlib import pyplot as plt\n",
    "\n",
    "ix = pd.IndexSlice"
   ]
  },
  {
   "cell_type": "markdown",
   "metadata": {},
   "source": [
    "## How setting LSH parameters affects finding similar documents"
   ]
  },
  {
   "cell_type": "markdown",
   "metadata": {},
   "source": [
    "Create a pandas dataframe with different configurations for b and r values. The different sizes are as follows: (2, 50), (50, 2), (10, 10), (5, 20), (20, 5)."
   ]
  },
  {
   "cell_type": "code",
   "execution_count": 45,
   "metadata": {},
   "outputs": [
    {
     "name": "stdout",
     "output_type": "stream",
     "text": [
      "    b   r\n",
      "0   2  50\n",
      "1  50   2\n",
      "2  10  10\n",
      "3   5  20\n",
      "4  20   5\n"
     ]
    }
   ],
   "source": [
    "dataValues = [(2, 50), (50, 2), (10, 10), (5, 20), (20, 5)]\n",
    "df = pd.DataFrame(dataValues, columns = ['b', 'r'])\n",
    "\n",
    "print(df)"
   ]
  },
  {
   "cell_type": "markdown",
   "metadata": {},
   "source": [
    "For every b and r compute the probability values using the equation discussed in class i.e, $p = 1 - (1 - t^b)^r$. Vary the threshold value from 0 to 1 with around 200 intervals."
   ]
  },
  {
   "cell_type": "code",
   "execution_count": 46,
   "metadata": {},
   "outputs": [
    {
     "name": "stdout",
     "output_type": "stream",
     "text": [
      "    b   r  0.0  0.005025125628140704  0.010050251256281407  \\\n",
      "0   2  50  0.0          1.261814e-03          5.037900e-03   \n",
      "1  50   2  0.0          0.000000e+00          0.000000e+00   \n",
      "2  10  10  0.0          0.000000e+00          0.000000e+00   \n",
      "3   5  20  0.0          6.408651e-11          2.050760e-09   \n",
      "4  20   5  0.0          0.000000e+00          0.000000e+00   \n",
      "\n",
      "   0.01507537688442211  0.020100502512562814  0.02512562814070352  \\\n",
      "0         1.130031e-02          2.000283e-02         3.108155e-02   \n",
      "1         0.000000e+00          0.000000e+00         0.000000e+00   \n",
      "2         0.000000e+00          0.000000e+00         1.110223e-15   \n",
      "3         1.557295e-08          6.562428e-08         2.002694e-07   \n",
      "4         0.000000e+00          0.000000e+00         0.000000e+00   \n",
      "\n",
      "   0.03015075376884422  0.035175879396984924  ...  0.9547738693467337  \\\n",
      "0         4.445562e-02          6.002823e-02  ...            1.000000   \n",
      "1         0.000000e+00          0.000000e+00  ...            0.187949   \n",
      "2         6.661338e-15          2.886580e-14  ...            0.999951   \n",
      "3         4.983343e-07          1.077096e-06  ...            1.000000   \n",
      "4         0.000000e+00          0.000000e+00  ...            0.919804   \n",
      "\n",
      "   0.9597989949748744  0.964824120603015  0.9698492462311558  \\\n",
      "0            1.000000           1.000000            1.000000   \n",
      "1            0.240545           0.305913            0.385935   \n",
      "2            0.999981           0.999994            0.999998   \n",
      "3            1.000000           1.000000            1.000000   \n",
      "4            0.945003           0.965025            0.979871   \n",
      "\n",
      "   0.9748743718592965  0.9798994974874372  0.9849246231155779  \\\n",
      "0            1.000000            1.000000            1.000000   \n",
      "1            0.481855            0.593348            0.716866   \n",
      "2            1.000000            1.000000            1.000000   \n",
      "3            1.000000            1.000000            1.000000   \n",
      "4            0.989905            0.995858            0.998766   \n",
      "\n",
      "   0.9899497487437187  0.9949748743718593  1.0  \n",
      "0            1.000000            1.000000  1.0  \n",
      "1            0.842766            0.950418  1.0  \n",
      "2            1.000000            1.000000  1.0  \n",
      "3            1.000000            1.000000  1.0  \n",
      "4            0.999795            0.999992  1.0  \n",
      "\n",
      "[5 rows x 202 columns]\n",
      "(5, 202)\n"
     ]
    }
   ],
   "source": [
    "for i in np.linspace(0, 1, 200):\n",
    "    df[i] = 1 - np.power((1 - np.power(i, df['b'])), df['r'])\n",
    "    \n",
    "print(df)\n",
    "print(df.shape)"
   ]
  },
  {
   "cell_type": "markdown",
   "metadata": {},
   "source": [
    "Create a pandas pivot table with the columns hashes, bands, row."
   ]
  },
  {
   "cell_type": "code",
   "execution_count": 47,
   "metadata": {},
   "outputs": [
    {
     "name": "stdout",
     "output_type": "stream",
     "text": [
      "       0.000000      0.005025      0.010050      0.015075      0.020101  \\\n",
      "b  r                                                                      \n",
      "2  50       0.0  1.261814e-03  5.037900e-03  1.130031e-02  2.000283e-02   \n",
      "5  20       0.0  6.408651e-11  2.050760e-09  1.557295e-08  6.562428e-08   \n",
      "10 10       0.0  0.000000e+00  0.000000e+00  0.000000e+00  0.000000e+00   \n",
      "20 5        0.0  0.000000e+00  0.000000e+00  0.000000e+00  0.000000e+00   \n",
      "50 2        0.0  0.000000e+00  0.000000e+00  0.000000e+00  0.000000e+00   \n",
      "\n",
      "           0.025126      0.030151      0.035176      0.040201      0.045226  \\\n",
      "b  r                                                                          \n",
      "2  50  3.108155e-02  4.445562e-02  6.002823e-02  7.768771e-02  9.730891e-02   \n",
      "5  20  2.002694e-07  4.983343e-07  1.077096e-06  2.099975e-06  3.784220e-06   \n",
      "10 10  1.110223e-15  6.661338e-15  2.886580e-14  1.099121e-13  3.574918e-13   \n",
      "20 5   0.000000e+00  0.000000e+00  0.000000e+00  0.000000e+00  0.000000e+00   \n",
      "50 2   0.000000e+00  0.000000e+00  0.000000e+00  0.000000e+00  0.000000e+00   \n",
      "\n",
      "       ...  0.954774  0.959799  0.964824  0.969849  0.974874  0.979899  \\\n",
      "b  r   ...                                                               \n",
      "2  50  ...  1.000000  1.000000  1.000000  1.000000  1.000000  1.000000   \n",
      "5  20  ...  1.000000  1.000000  1.000000  1.000000  1.000000  1.000000   \n",
      "10 10  ...  0.999951  0.999981  0.999994  0.999998  1.000000  1.000000   \n",
      "20 5   ...  0.919804  0.945003  0.965025  0.979871  0.989905  0.995858   \n",
      "50 2   ...  0.187949  0.240545  0.305913  0.385935  0.481855  0.593348   \n",
      "\n",
      "       0.984925  0.989950  0.994975  1.000000  \n",
      "b  r                                           \n",
      "2  50  1.000000  1.000000  1.000000       1.0  \n",
      "5  20  1.000000  1.000000  1.000000       1.0  \n",
      "10 10  1.000000  1.000000  1.000000       1.0  \n",
      "20 5   0.998766  0.999795  0.999992       1.0  \n",
      "50 2   0.716866  0.842766  0.950418       1.0  \n",
      "\n",
      "[5 rows x 200 columns]\n"
     ]
    }
   ],
   "source": [
    "dfPivotTable = pd.pivot_table(df, index=['b', 'r'])\n",
    "print(dfPivotTable)\n",
    "\n",
    "#df['h'] = df['b'] * df['r']"
   ]
  },
  {
   "cell_type": "markdown",
   "metadata": {},
   "source": [
    "Initialize a plot with figsize of (10, 7) and title \"Probability of LSH of finding a candidate pair\""
   ]
  },
  {
   "cell_type": "code",
   "execution_count": 48,
   "metadata": {},
   "outputs": [
    {
     "data": {
      "text/plain": [
       "Text(0, 0.5, 'p')"
      ]
     },
     "execution_count": 48,
     "metadata": {},
     "output_type": "execute_result"
    },
    {
     "data": {
      "image/png": "[encoded data removed]",
      "text/plain": [
       "<Figure size 720x504 with 1 Axes>"
      ]
     },
     "metadata": {
      "needs_background": "light"
     },
     "output_type": "display_data"
    }
   ],
   "source": [
    "init = dfPivotTable.T.plot(figsize = (10, 7), title = (\"Probability of LSH of finding a candidate pair\"))\n",
    "plt.xlabel(\"Jaccard Similarity\")\n",
    "plt.ylabel( \"p\")"
   ]
  },
  {
   "cell_type": "markdown",
   "metadata": {},
   "source": [
    "Set ylabel to be \"p\" and xlabel to be \"Jaccard Similarity\". Now display the plot with the different values. "
   ]
  },
  {
   "cell_type": "code",
   "execution_count": null,
   "metadata": {},
   "outputs": [],
   "source": []
  },
  {
   "cell_type": "markdown",
   "metadata": {},
   "source": [
    "## Computing LSH"
   ]
  },
  {
   "cell_type": "markdown",
   "metadata": {},
   "source": [
    "Now import the MinHash function from your last assignment to get the MinHashSim matrix. You may re-insert the entire function too here."
   ]
  },
  {
   "cell_type": "markdown",
   "metadata": {},
   "source": [
    "Now set the different parameters that you shall need from the MinHashSim matrix. Like, the numHashes, numBands, numRows, and numRowsPerBand"
   ]
  },
  {
   "cell_type": "markdown",
   "metadata": {},
   "source": [
    "Write the LSH function that will re-use the same hash functions computed for MinHash to iterate through every band (and every document in the band) and find out the new hash value. Create a new list for the band and check if the hash value is already in it. If not then add the new hash value."
   ]
  },
  {
   "cell_type": "markdown",
   "metadata": {},
   "source": [
    "Maintain a global dictionary of buckets (for every band) and keep adding the buckets as and when they are created."
   ]
  },
  {
   "cell_type": "markdown",
   "metadata": {},
   "source": [
    "Now write a getNearest(n) function, which will find out that for a document 'n' find out and display the nearest documents as a list of document numbers. "
   ]
  },
  {
   "cell_type": "markdown",
   "metadata": {},
   "source": [
    "Now set a threshold and find out how many false positives and false negatives you are getting. You have to now compare with the JaccSim matrix to get the document similarities."
   ]
  },
  {
   "cell_type": "markdown",
   "metadata": {},
   "source": [
    "Repeat the experiments for the docs_1000, docs_2500, and docs_10000 data sets. To be downloaded from this git link. : https://github.com/dipsankarb/data.git . Also, please do not push the data files while submitting the assignment."
   ]
  }
 ],
 "metadata": {
  "kernelspec": {
   "display_name": "Python 3",
   "language": "python",
   "name": "python3"
  },
  "language_info": {
   "codemirror_mode": {
    "name": "ipython",
    "version": 3
   },
   "file_extension": ".py",
   "mimetype": "text/x-python",
   "name": "python",
   "nbconvert_exporter": "python",
   "pygments_lexer": "ipython3",
   "version": "3.7.3"
  }
 },
 "nbformat": 4,
 "nbformat_minor": 1
}
